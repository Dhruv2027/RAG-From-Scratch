{
 "cells": [
  {
   "cell_type": "markdown",
   "metadata": {},
   "source": [
    "# How RAG Works\n",
    "\n",
    "This is the basic workflow for RAG, which we will implement step by step in this notebook.\n",
    "\n",
    "1. Load the data \\\n",
    "    a. Tokenize the text in the data \\\n",
    "    b. Break the tokenized data into chunks \n",
    "\n",
    "2. Convert the chunked up data into a vector representation, ie: embedding the data \\\n",
    "    a. Use a pre-trained language model to generate the vector embeddings\n",
    "\n",
    "3. Store the embeddings in a vector database \n",
    "4. Query the vector database by parsing the query \n",
    "5. Retrieve the relevant documents from the vector database \n",
    "6. Rank the documents based on their similarity scores \n",
    "7. Return the top-ranked documents \n",
    "8. Display the results"
   ]
  },
  {
   "cell_type": "markdown",
   "metadata": {},
   "source": [
    "## 1. Loading the data"
   ]
  },
  {
   "cell_type": "markdown",
   "metadata": {},
   "source": [
    "### 1a. Tokenize the text in the data"
   ]
  },
  {
   "cell_type": "code",
   "execution_count": 2,
   "metadata": {},
   "outputs": [],
   "source": [
    "import fitz # PyMuPDF, a library for reading and writing PDF files\n",
    "from tqdm import tqdm # a library for progress bars, visualizing progress of loops"
   ]
  },
  {
   "cell_type": "code",
   "execution_count": 3,
   "metadata": {},
   "outputs": [
    {
     "name": "stderr",
     "output_type": "stream",
     "text": [
      "250it [00:01, 125.55it/s]\n"
     ]
    },
    {
     "data": {
      "text/plain": [
       "[{'text': '', 'page': 0, 'page_word_count': 1, 'page_token_count': 0.0},\n",
       " {'text': \"1 Harry Potter and the Sorcerer's Stone CHAPTER ONE THE BOY WHO LIVED Mr. and Mrs. Dursley, of number four, Privet Drive, were proud to say that they were perfectly normal, thank you very much. They were the last people you'd expect to be involved in anything strange or mysterious, because they just didn't hold with such nonsense. Mr. Dursley was the director of a firm called Grunnings, which made drills. He was a big, beefy man with hardly any neck, although he did have a very large mustache. Mrs. Dursley was thin and blonde and had nearly twice the usual amount of neck, which came in very useful as she spent so much of her time craning over garden fences, spying on the neighbors. The Dursleys had a small son called Dudley and in their opinion there was no finer boy anywhere. The Dursleys had everything they wanted, but they also had a secret, and their greatest fear was that somebody would discover it. They didn't think they could bear it if anyone found out about the Potters. Mrs. Potter was Mrs. Dursley's sister, but they hadn't met for several years; in fact, Mrs. Dursley pretended she didn't have a sister, because her sister and her good-for-nothing husband were as unDursleyish as it was possible to be. The Dursleys shuddered to think what the neighbors would say if the Potters arrived in the street. The Dursleys knew that the Potters had a small son, too, but they had never even seen him. This boy was another good reason for keeping the Potters away; they didn't want Dudley mixing with a child like that. When Mr. and Mrs. Dursley woke up on the dull, gray Tuesday our story starts, there was nothing about the cloudy sky outside to suggest that strange and mysterious things would soon be happening all over the country. Mr. Dursley hummed as he picked out his most boring tie for work, and Mrs. Dursley gossiped away happily as she wrestled a screaming Dudley into his high chair. None of them noticed a large, tawny owl flutter past the window. At half past eight, Mr. Dursley picked up his briefcase, pecked Mrs. Dursley on the cheek, and tried to kiss Dudley good-bye but missed,\",\n",
       "  'page': 1,\n",
       "  'page_word_count': 343,\n",
       "  'page_token_count': 529.25}]"
      ]
     },
     "execution_count": 3,
     "metadata": {},
     "output_type": "execute_result"
    }
   ],
   "source": [
    "pdf_path = \"data/harry_potter_sorcerer's_stone.pdf\"\n",
    "\n",
    "# Formatting the text to remove newlines and extra spaces\n",
    "def format_text(text:str) -> str:\n",
    "    cleaned_text = text.replace(\"\\n\", \" \").strip()\n",
    "    return cleaned_text\n",
    "\n",
    "# Reading the PDF file and returning a list of dictionaries containing the text and page number\n",
    "def read_pdf(filepath:str) -> list[dict]:\n",
    "    \"\"\"Reads a PDF file and returns a list of dictionaries containing the text and page number.\"\"\"\n",
    "    doc = fitz.open(filepath) # Open the PDF file\n",
    "    text_list = [] # Initialize an empty list to store the text and page number\n",
    "    for page_num, page in tqdm(enumerate(doc)): # Loop through each page in the document\n",
    "        text = page.get_text() # Get the text from the page\n",
    "        text_list.append({\"text\": format_text(text), \"page\": page_num, \"page_word_count\": len(text.split(\" \")), \"page_token_count\": len(text)/4}) # Append the text, page number, page word count, and page token count to the list\n",
    "    return text_list\n",
    "\n",
    "# Reading the PDF file and returning a list of dictionaries containing the text and page number\n",
    "pages_and_texts = read_pdf(pdf_path)\n",
    "pages_and_texts[:2] # Displaying the first 2 items in the list"
   ]
  },
  {
   "cell_type": "code",
   "execution_count": 4,
   "metadata": {},
   "outputs": [],
   "source": [
    "import pandas as pd # Library used to create dataframes in Python\n",
    "df = pd.DataFrame(pages_and_texts) # Creating a dataframe from the list of dictionaries"
   ]
  },
  {
   "cell_type": "code",
   "execution_count": 5,
   "metadata": {},
   "outputs": [
    {
     "data": {
      "text/html": [
       "<div>\n",
       "<style scoped>\n",
       "    .dataframe tbody tr th:only-of-type {\n",
       "        vertical-align: middle;\n",
       "    }\n",
       "\n",
       "    .dataframe tbody tr th {\n",
       "        vertical-align: top;\n",
       "    }\n",
       "\n",
       "    .dataframe thead th {\n",
       "        text-align: right;\n",
       "    }\n",
       "</style>\n",
       "<table border=\"1\" class=\"dataframe\">\n",
       "  <thead>\n",
       "    <tr style=\"text-align: right;\">\n",
       "      <th></th>\n",
       "      <th>page</th>\n",
       "      <th>page_word_count</th>\n",
       "      <th>page_token_count</th>\n",
       "    </tr>\n",
       "  </thead>\n",
       "  <tbody>\n",
       "    <tr>\n",
       "      <th>count</th>\n",
       "      <td>250.000</td>\n",
       "      <td>250.000</td>\n",
       "      <td>250.000</td>\n",
       "    </tr>\n",
       "    <tr>\n",
       "      <th>mean</th>\n",
       "      <td>124.500</td>\n",
       "      <td>284.252</td>\n",
       "      <td>437.725</td>\n",
       "    </tr>\n",
       "    <tr>\n",
       "      <th>std</th>\n",
       "      <td>72.313</td>\n",
       "      <td>53.953</td>\n",
       "      <td>77.050</td>\n",
       "    </tr>\n",
       "    <tr>\n",
       "      <th>min</th>\n",
       "      <td>0.000</td>\n",
       "      <td>1.000</td>\n",
       "      <td>0.000</td>\n",
       "    </tr>\n",
       "    <tr>\n",
       "      <th>25%</th>\n",
       "      <td>62.250</td>\n",
       "      <td>252.250</td>\n",
       "      <td>393.250</td>\n",
       "    </tr>\n",
       "    <tr>\n",
       "      <th>50%</th>\n",
       "      <td>124.500</td>\n",
       "      <td>286.000</td>\n",
       "      <td>436.500</td>\n",
       "    </tr>\n",
       "    <tr>\n",
       "      <th>75%</th>\n",
       "      <td>186.750</td>\n",
       "      <td>320.000</td>\n",
       "      <td>491.250</td>\n",
       "    </tr>\n",
       "    <tr>\n",
       "      <th>max</th>\n",
       "      <td>249.000</td>\n",
       "      <td>472.000</td>\n",
       "      <td>677.750</td>\n",
       "    </tr>\n",
       "  </tbody>\n",
       "</table>\n",
       "</div>"
      ],
      "text/plain": [
       "          page  page_word_count  page_token_count\n",
       "count  250.000          250.000           250.000\n",
       "mean   124.500          284.252           437.725\n",
       "std     72.313           53.953            77.050\n",
       "min      0.000            1.000             0.000\n",
       "25%     62.250          252.250           393.250\n",
       "50%    124.500          286.000           436.500\n",
       "75%    186.750          320.000           491.250\n",
       "max    249.000          472.000           677.750"
      ]
     },
     "execution_count": 5,
     "metadata": {},
     "output_type": "execute_result"
    }
   ],
   "source": [
    "df.describe().round(3) # Displaying the summary statistics of the dataframe"
   ]
  },
  {
   "cell_type": "markdown",
   "metadata": {},
   "source": [
    "## 1b. Processing text on the sentence level.\n",
    "\n",
    "Concatenate 10-15 sentences together to get a \"chunk\" of text"
   ]
  },
  {
   "cell_type": "code",
   "execution_count": 6,
   "metadata": {},
   "outputs": [
    {
     "data": {
      "text/plain": [
       "{'text': '', 'page': 0, 'page_word_count': 1, 'page_token_count': 0.0}"
      ]
     },
     "execution_count": 6,
     "metadata": {},
     "output_type": "execute_result"
    }
   ],
   "source": [
    "pages_and_texts[0] # Displaying the first item in the list"
   ]
  },
  {
   "cell_type": "code",
   "execution_count": 7,
   "metadata": {},
   "outputs": [
    {
     "data": {
      "text/plain": [
       "<spacy.pipeline.sentencizer.Sentencizer at 0x132bc2f50>"
      ]
     },
     "execution_count": 7,
     "metadata": {},
     "output_type": "execute_result"
    }
   ],
   "source": [
    "from spacy.lang.en import English # importing spacy library to allow us to create chunks of text using individual sentences.\n",
    "nlp = English()\n",
    "\n",
    "# Add a sentencizer pipeline, see https://spacy.io/api/sentencizer \n",
    "nlp.add_pipe(\"sentencizer\")\n"
   ]
  },
  {
   "cell_type": "code",
   "execution_count": 8,
   "metadata": {},
   "outputs": [
    {
     "name": "stderr",
     "output_type": "stream",
     "text": [
      "100%|██████████| 250/250 [00:00<00:00, 335.27it/s]\n"
     ]
    }
   ],
   "source": [
    "\n",
    "# make chunks of text by chunking sentences together\n",
    "for item in tqdm(pages_and_texts):\n",
    "    item[\"sentences\"] = list(nlp(item[\"text\"]).sents)\n",
    "    item[\"sentences\"] = [str(sentence) for sentence in item[\"sentences\"]]\n",
    "    item['num_sents'] = len(item[\"sentences\"])\n",
    "    \n"
   ]
  },
  {
   "cell_type": "code",
   "execution_count": 9,
   "metadata": {},
   "outputs": [],
   "source": [
    "chunk_size = 10 # Number of sentences per chunk\n",
    "def get_chunks(input_list: list[str],\n",
    "               slice_size: int = chunk_size) -> list[list[str]]:\n",
    "    \"\"\"Split a list into chunks of a specified size.\"\"\"\n",
    "    return [input_list[i:i + slice_size] for i in range(0, len(input_list), slice_size)]"
   ]
  },
  {
   "cell_type": "code",
   "execution_count": 10,
   "metadata": {},
   "outputs": [
    {
     "name": "stderr",
     "output_type": "stream",
     "text": [
      "100%|██████████| 250/250 [00:00<00:00, 195192.85it/s]\n"
     ]
    }
   ],
   "source": [
    "# Loop through pages and texts and split sentences into chunks\n",
    "for item in tqdm(pages_and_texts):\n",
    "    item[\"sentence_chunks\"] = get_chunks(input_list=item[\"sentences\"],\n",
    "                                         slice_size=chunk_size)\n",
    "    item[\"num_chunks\"] = len(item[\"sentence_chunks\"])"
   ]
  },
  {
   "cell_type": "code",
   "execution_count": 11,
   "metadata": {},
   "outputs": [
    {
     "data": {
      "text/plain": [
       "[{'text': '227 Ron started to direct the black pieces. They moved silently wherever he sent them. Harry\\'s knees were trembling. What if they lost? \"Harry -- move diagonally four squares to the right.\" Their first real shock came when their other knight was taken. The white queen smashed him to the floor and dragged him off the board, where he lay quite still, facedown. \"Had to let that happen,\" said Ron, looking shaken. \"Leaves you free to take that bishop, Hermione, go on.\" Every time one of their men was lost, the white pieces showed no mercy. Soon there was a huddle of limp black players slumped along the wall. Twice, Ron only just noticed in time that Harry and Hermione were in danger. He himself darted around the board, taking almost as many white pieces as they had lost black ones. \"We\\'re nearly there,\" he muttered suddenly. \"Let me think let me think...\" The white queen turned her blank face toward him. \"Yes...\" said Ron softly, \"It\\'s the only way... I\\'ve got to be taken.\" \"NOF Harry and Hermione shouted. \"That\\'s chess!\" snapped Ron. \"You\\'ve got to make some sacrifices! I take one step forward and she\\'ll take me -- that leaves you free to checkmate the king, Harry!\" \"But --\" \"Do you want to stop Snape or not?\" \"Ron --\" \"Look, if you don\\'t hurry up, he\\'ll already have the Stone!\" There was no alternative. \"Ready?\" Ron called, his face pale but determined. \"Here I go - now,',\n",
       "  'page': 227,\n",
       "  'page_word_count': 222,\n",
       "  'page_token_count': 347.75,\n",
       "  'sentences': ['227 Ron started to direct the black pieces.',\n",
       "   'They moved silently wherever he sent them.',\n",
       "   \"Harry's knees were trembling.\",\n",
       "   'What if they lost? \"',\n",
       "   'Harry -- move diagonally four squares to the right.\"',\n",
       "   'Their first real shock came when their other knight was taken.',\n",
       "   'The white queen smashed him to the floor and dragged him off the board, where he lay quite still, facedown. \"',\n",
       "   'Had to let that happen,\" said Ron, looking shaken. \"',\n",
       "   'Leaves you free to take that bishop, Hermione, go on.\"',\n",
       "   'Every time one of their men was lost, the white pieces showed no mercy.',\n",
       "   'Soon there was a huddle of limp black players slumped along the wall.',\n",
       "   'Twice, Ron only just noticed in time that Harry and Hermione were in danger.',\n",
       "   'He himself darted around the board, taking almost as many white pieces as they had lost black ones. \"',\n",
       "   'We\\'re nearly there,\" he muttered suddenly. \"',\n",
       "   'Let me think let me think...\" The white queen turned her blank face toward him. \"',\n",
       "   'Yes...\" said Ron softly, \"It\\'s the only way... I\\'ve got to be taken.\" \"',\n",
       "   'NOF Harry and Hermione shouted. \"',\n",
       "   'That\\'s chess!\"',\n",
       "   'snapped Ron. \"',\n",
       "   \"You've got to make some sacrifices!\",\n",
       "   'I take one step forward and she\\'ll take me -- that leaves you free to checkmate the king, Harry!\" \"',\n",
       "   'But --\" \"Do you want to stop Snape or not?\" \"',\n",
       "   'Ron --\" \"Look, if you don\\'t hurry up, he\\'ll already have the Stone!\"',\n",
       "   'There was no alternative. \"',\n",
       "   'Ready?\"',\n",
       "   'Ron called, his face pale but determined. \"',\n",
       "   'Here I go - now,'],\n",
       "  'num_sents': 27,\n",
       "  'sentence_chunks': [['227 Ron started to direct the black pieces.',\n",
       "    'They moved silently wherever he sent them.',\n",
       "    \"Harry's knees were trembling.\",\n",
       "    'What if they lost? \"',\n",
       "    'Harry -- move diagonally four squares to the right.\"',\n",
       "    'Their first real shock came when their other knight was taken.',\n",
       "    'The white queen smashed him to the floor and dragged him off the board, where he lay quite still, facedown. \"',\n",
       "    'Had to let that happen,\" said Ron, looking shaken. \"',\n",
       "    'Leaves you free to take that bishop, Hermione, go on.\"',\n",
       "    'Every time one of their men was lost, the white pieces showed no mercy.'],\n",
       "   ['Soon there was a huddle of limp black players slumped along the wall.',\n",
       "    'Twice, Ron only just noticed in time that Harry and Hermione were in danger.',\n",
       "    'He himself darted around the board, taking almost as many white pieces as they had lost black ones. \"',\n",
       "    'We\\'re nearly there,\" he muttered suddenly. \"',\n",
       "    'Let me think let me think...\" The white queen turned her blank face toward him. \"',\n",
       "    'Yes...\" said Ron softly, \"It\\'s the only way... I\\'ve got to be taken.\" \"',\n",
       "    'NOF Harry and Hermione shouted. \"',\n",
       "    'That\\'s chess!\"',\n",
       "    'snapped Ron. \"',\n",
       "    \"You've got to make some sacrifices!\"],\n",
       "   ['I take one step forward and she\\'ll take me -- that leaves you free to checkmate the king, Harry!\" \"',\n",
       "    'But --\" \"Do you want to stop Snape or not?\" \"',\n",
       "    'Ron --\" \"Look, if you don\\'t hurry up, he\\'ll already have the Stone!\"',\n",
       "    'There was no alternative. \"',\n",
       "    'Ready?\"',\n",
       "    'Ron called, his face pale but determined. \"',\n",
       "    'Here I go - now,']],\n",
       "  'num_chunks': 3}]"
      ]
     },
     "execution_count": 11,
     "metadata": {},
     "output_type": "execute_result"
    }
   ],
   "source": [
    "import random\n",
    "random.sample(pages_and_texts, k=1)\n"
   ]
  },
  {
   "cell_type": "code",
   "execution_count": 12,
   "metadata": {},
   "outputs": [
    {
     "name": "stderr",
     "output_type": "stream",
     "text": [
      "100%|██████████| 250/250 [00:00<00:00, 8749.22it/s]\n"
     ]
    },
    {
     "data": {
      "text/plain": [
       "753"
      ]
     },
     "execution_count": 12,
     "metadata": {},
     "output_type": "execute_result"
    }
   ],
   "source": [
    "import re\n",
    "\n",
    "# Split each chunk into its own item\n",
    "pages_and_chunks = []\n",
    "for item in tqdm(pages_and_texts): \n",
    "    for sentence_chunk in item[\"sentence_chunks\"]: \n",
    "        chunk_dict = {}\n",
    "        chunk_dict[\"page_number\"] = item[\"page\"]\n",
    "\n",
    "        # Join the sentences together into a paragraph-like structure, aka join the list of sentences into one paragraph\n",
    "        joined_sentence_chunk = \"\".join(sentence_chunk).replace(\"  \", \" \").strip()\n",
    "        joined_sentence_chunk = re.sub(r'\\.([A-Z])', r'. \\1', joined_sentence_chunk) # \".A\" => \". A\" (will work for any captial letter)\n",
    "\n",
    "        chunk_dict[\"sentence_chunk\"] = joined_sentence_chunk\n",
    "\n",
    "        # Get some stats on our chunks\n",
    "        chunk_dict[\"chunk_char_count\"] = len(joined_sentence_chunk)\n",
    "        chunk_dict[\"chunk_word_count\"] = len([word for word in joined_sentence_chunk.split(\" \")])\n",
    "        chunk_dict[\"chunk_token_count\"] = len(joined_sentence_chunk) / 4 # 1 token = ~4 chars\n",
    "\n",
    "        pages_and_chunks.append(chunk_dict) \n",
    "\n",
    "len(pages_and_chunks)"
   ]
  },
  {
   "cell_type": "code",
   "execution_count": 13,
   "metadata": {},
   "outputs": [
    {
     "data": {
      "text/plain": [
       "[{'page_number': 215,\n",
       "  'sentence_chunk': 'Hermione, you\\'d better do that.\" \"Why me?\" \"It\\'s obvious,\" said Ron. \"You can pretend to be waiting for Professor Flitwick, you know.\"He put on a high voice, \"\\'Oh Professor Flitwick, I\\'m so worried, I think I got question fourteen b wrong....\\'\" \"Oh, shut up,\" said Hermione, but she agreed to go and watch out for Snape. \"And we\\'d better stay outside the third-floor corridor,\" Harry told Ron. \"Come on.\"But that part of the plan didn\\'t work. No sooner had they reached the door separating Fluffy from the rest of the school than Professor McGonagall turned up again and this time, she lost her temper. \"I suppose you think you\\'re harder to get past than a pack of enchantments!\"',\n",
       "  'chunk_char_count': 679,\n",
       "  'chunk_word_count': 118,\n",
       "  'chunk_token_count': 169.75}]"
      ]
     },
     "execution_count": 13,
     "metadata": {},
     "output_type": "execute_result"
    }
   ],
   "source": [
    "random.sample(pages_and_chunks, k=1) # Displaying a random sample from the list\n"
   ]
  },
  {
   "cell_type": "code",
   "execution_count": 14,
   "metadata": {},
   "outputs": [
    {
     "data": {
      "text/html": [
       "<div>\n",
       "<style scoped>\n",
       "    .dataframe tbody tr th:only-of-type {\n",
       "        vertical-align: middle;\n",
       "    }\n",
       "\n",
       "    .dataframe tbody tr th {\n",
       "        vertical-align: top;\n",
       "    }\n",
       "\n",
       "    .dataframe thead th {\n",
       "        text-align: right;\n",
       "    }\n",
       "</style>\n",
       "<table border=\"1\" class=\"dataframe\">\n",
       "  <thead>\n",
       "    <tr style=\"text-align: right;\">\n",
       "      <th></th>\n",
       "      <th>page_number</th>\n",
       "      <th>chunk_char_count</th>\n",
       "      <th>chunk_word_count</th>\n",
       "      <th>chunk_token_count</th>\n",
       "    </tr>\n",
       "  </thead>\n",
       "  <tbody>\n",
       "    <tr>\n",
       "      <th>count</th>\n",
       "      <td>753.00</td>\n",
       "      <td>753.00</td>\n",
       "      <td>753.00</td>\n",
       "      <td>753.00</td>\n",
       "    </tr>\n",
       "    <tr>\n",
       "      <th>mean</th>\n",
       "      <td>125.85</td>\n",
       "      <td>578.85</td>\n",
       "      <td>103.09</td>\n",
       "      <td>144.71</td>\n",
       "    </tr>\n",
       "    <tr>\n",
       "      <th>std</th>\n",
       "      <td>72.09</td>\n",
       "      <td>275.52</td>\n",
       "      <td>49.85</td>\n",
       "      <td>68.88</td>\n",
       "    </tr>\n",
       "    <tr>\n",
       "      <th>min</th>\n",
       "      <td>1.00</td>\n",
       "      <td>12.00</td>\n",
       "      <td>2.00</td>\n",
       "      <td>3.00</td>\n",
       "    </tr>\n",
       "    <tr>\n",
       "      <th>25%</th>\n",
       "      <td>64.00</td>\n",
       "      <td>399.00</td>\n",
       "      <td>71.00</td>\n",
       "      <td>99.75</td>\n",
       "    </tr>\n",
       "    <tr>\n",
       "      <th>50%</th>\n",
       "      <td>127.00</td>\n",
       "      <td>563.00</td>\n",
       "      <td>99.00</td>\n",
       "      <td>140.75</td>\n",
       "    </tr>\n",
       "    <tr>\n",
       "      <th>75%</th>\n",
       "      <td>189.00</td>\n",
       "      <td>729.00</td>\n",
       "      <td>132.00</td>\n",
       "      <td>182.25</td>\n",
       "    </tr>\n",
       "    <tr>\n",
       "      <th>max</th>\n",
       "      <td>249.00</td>\n",
       "      <td>1877.00</td>\n",
       "      <td>349.00</td>\n",
       "      <td>469.25</td>\n",
       "    </tr>\n",
       "  </tbody>\n",
       "</table>\n",
       "</div>"
      ],
      "text/plain": [
       "       page_number  chunk_char_count  chunk_word_count  chunk_token_count\n",
       "count       753.00            753.00            753.00             753.00\n",
       "mean        125.85            578.85            103.09             144.71\n",
       "std          72.09            275.52             49.85              68.88\n",
       "min           1.00             12.00              2.00               3.00\n",
       "25%          64.00            399.00             71.00              99.75\n",
       "50%         127.00            563.00             99.00             140.75\n",
       "75%         189.00            729.00            132.00             182.25\n",
       "max         249.00           1877.00            349.00             469.25"
      ]
     },
     "execution_count": 14,
     "metadata": {},
     "output_type": "execute_result"
    }
   ],
   "source": [
    "df = pd.DataFrame(pages_and_chunks)\n",
    "df.describe().round(2)\n"
   ]
  },
  {
   "cell_type": "code",
   "execution_count": 15,
   "metadata": {},
   "outputs": [
    {
     "data": {
      "text/html": [
       "<div>\n",
       "<style scoped>\n",
       "    .dataframe tbody tr th:only-of-type {\n",
       "        vertical-align: middle;\n",
       "    }\n",
       "\n",
       "    .dataframe tbody tr th {\n",
       "        vertical-align: top;\n",
       "    }\n",
       "\n",
       "    .dataframe thead th {\n",
       "        text-align: right;\n",
       "    }\n",
       "</style>\n",
       "<table border=\"1\" class=\"dataframe\">\n",
       "  <thead>\n",
       "    <tr style=\"text-align: right;\">\n",
       "      <th></th>\n",
       "      <th>page_number</th>\n",
       "      <th>sentence_chunk</th>\n",
       "      <th>chunk_char_count</th>\n",
       "      <th>chunk_word_count</th>\n",
       "      <th>chunk_token_count</th>\n",
       "    </tr>\n",
       "  </thead>\n",
       "  <tbody>\n",
       "    <tr>\n",
       "      <th>0</th>\n",
       "      <td>1</td>\n",
       "      <td>1 Harry Potter and the Sorcerer's Stone CHAPTE...</td>\n",
       "      <td>1327</td>\n",
       "      <td>235</td>\n",
       "      <td>331.75</td>\n",
       "    </tr>\n",
       "    <tr>\n",
       "      <th>1</th>\n",
       "      <td>1</td>\n",
       "      <td>The Dursleys knew that the Potters had a small...</td>\n",
       "      <td>788</td>\n",
       "      <td>142</td>\n",
       "      <td>197.00</td>\n",
       "    </tr>\n",
       "    <tr>\n",
       "      <th>2</th>\n",
       "      <td>2</td>\n",
       "      <td>2 because Dudley was now having a tantrum and ...</td>\n",
       "      <td>645</td>\n",
       "      <td>126</td>\n",
       "      <td>161.25</td>\n",
       "    </tr>\n",
       "    <tr>\n",
       "      <th>3</th>\n",
       "      <td>2</td>\n",
       "      <td>As Mr. Dursley drove around the corner and up ...</td>\n",
       "      <td>878</td>\n",
       "      <td>168</td>\n",
       "      <td>219.50</td>\n",
       "    </tr>\n",
       "    <tr>\n",
       "      <th>4</th>\n",
       "      <td>2</td>\n",
       "      <td>They were whispering excitedly together. Mr. D...</td>\n",
       "      <td>934</td>\n",
       "      <td>167</td>\n",
       "      <td>233.50</td>\n",
       "    </tr>\n",
       "  </tbody>\n",
       "</table>\n",
       "</div>"
      ],
      "text/plain": [
       "   page_number                                     sentence_chunk  \\\n",
       "0            1  1 Harry Potter and the Sorcerer's Stone CHAPTE...   \n",
       "1            1  The Dursleys knew that the Potters had a small...   \n",
       "2            2  2 because Dudley was now having a tantrum and ...   \n",
       "3            2  As Mr. Dursley drove around the corner and up ...   \n",
       "4            2  They were whispering excitedly together. Mr. D...   \n",
       "\n",
       "   chunk_char_count  chunk_word_count  chunk_token_count  \n",
       "0              1327               235             331.75  \n",
       "1               788               142             197.00  \n",
       "2               645               126             161.25  \n",
       "3               878               168             219.50  \n",
       "4               934               167             233.50  "
      ]
     },
     "execution_count": 15,
     "metadata": {},
     "output_type": "execute_result"
    }
   ],
   "source": [
    "df.head()"
   ]
  },
  {
   "cell_type": "code",
   "execution_count": 16,
   "metadata": {},
   "outputs": [
    {
     "name": "stdout",
     "output_type": "stream",
     "text": [
      "Chunk token count: 3.0 | Text: he squeaked.\n",
      "Chunk token count: 9.75 | Text: Finch-Fletchley, Justin!\" \"HUFFLEPUFF!\"\n",
      "Chunk token count: 3.25 | Text: GET OUT!OUT!\"\n",
      "Chunk token count: 17.75 | Text: A murmur ran through the crowd as Adrian Pucey dropped the Quaffle, too\n",
      "Chunk token count: 8.5 | Text: Harry wished he would blink. Those\n"
     ]
    }
   ],
   "source": [
    "# Filtering out chunks that are too short\n",
    "min_token_length = 20 # Minimum number of tokens a chunk must have to be included\n",
    "for row in df[df[\"chunk_token_count\"] <= min_token_length].sample(5).iterrows():\n",
    "    print(f'Chunk token count: {row[1][\"chunk_token_count\"]} | Text: {row[1][\"sentence_chunk\"]}')"
   ]
  },
  {
   "cell_type": "code",
   "execution_count": 17,
   "metadata": {},
   "outputs": [
    {
     "data": {
      "text/plain": [
       "[{'page_number': 1,\n",
       "  'sentence_chunk': \"1 Harry Potter and the Sorcerer's Stone CHAPTER ONE THE BOY WHO LIVED Mr. and Mrs. Dursley, of number four, Privet Drive, were proud to say that they were perfectly normal, thank you very much. They were the last people you'd expect to be involved in anything strange or mysterious, because they just didn't hold with such nonsense. Mr. Dursley was the director of a firm called Grunnings, which made drills. He was a big, beefy man with hardly any neck, although he did have a very large mustache. Mrs. Dursley was thin and blonde and had nearly twice the usual amount of neck, which came in very useful as she spent so much of her time craning over garden fences, spying on the neighbors. The Dursleys had a small son called Dudley and in their opinion there was no finer boy anywhere. The Dursleys had everything they wanted, but they also had a secret, and their greatest fear was that somebody would discover it. They didn't think they could bear it if anyone found out about the Potters. Mrs. Potter was Mrs. Dursley's sister, but they hadn't met for several years; in fact, Mrs. Dursley pretended she didn't have a sister, because her sister and her good-for-nothing husband were as unDursleyish as it was possible to be. The Dursleys shuddered to think what the neighbors would say if the Potters arrived in the street.\",\n",
       "  'chunk_char_count': 1327,\n",
       "  'chunk_word_count': 235,\n",
       "  'chunk_token_count': 331.75},\n",
       " {'page_number': 1,\n",
       "  'sentence_chunk': \"The Dursleys knew that the Potters had a small son, too, but they had never even seen him. This boy was another good reason for keeping the Potters away; they didn't want Dudley mixing with a child like that. When Mr. and Mrs. Dursley woke up on the dull, gray Tuesday our story starts, there was nothing about the cloudy sky outside to suggest that strange and mysterious things would soon be happening all over the country. Mr. Dursley hummed as he picked out his most boring tie for work, and Mrs. Dursley gossiped away happily as she wrestled a screaming Dudley into his high chair. None of them noticed a large, tawny owl flutter past the window. At half past eight, Mr. Dursley picked up his briefcase, pecked Mrs. Dursley on the cheek, and tried to kiss Dudley good-bye but missed,\",\n",
       "  'chunk_char_count': 788,\n",
       "  'chunk_word_count': 142,\n",
       "  'chunk_token_count': 197.0}]"
      ]
     },
     "execution_count": 17,
     "metadata": {},
     "output_type": "execute_result"
    }
   ],
   "source": [
    "# Filter our DataFrame for rows with under 30 tokens\n",
    "pages_and_chunks_over_min_token_len = df[df[\"chunk_token_count\"] > min_token_length].to_dict(orient=\"records\")\n",
    "pages_and_chunks_over_min_token_len[:2]"
   ]
  },
  {
   "cell_type": "code",
   "execution_count": 18,
   "metadata": {},
   "outputs": [
    {
     "data": {
      "text/plain": [
       "[{'page_number': 64,\n",
       "  'sentence_chunk': 'Ah yes,\" said the man. \"Yes, yes. I thought I\\'d be seeing you soon. Harry Potter.\"It wasn\\'t a question. \"You have your mother\\'s eyes. It seems only yesterday she was in here herself, buying her first wand. Ten and a quarter inches long, swishy, made of willow. Nice wand for charm work.\"Mr. Ollivander moved closer to Harry.',\n",
       "  'chunk_char_count': 324,\n",
       "  'chunk_word_count': 57,\n",
       "  'chunk_token_count': 81.0}]"
      ]
     },
     "execution_count": 18,
     "metadata": {},
     "output_type": "execute_result"
    }
   ],
   "source": [
    "random.sample(pages_and_chunks_over_min_token_len, k=1)"
   ]
  },
  {
   "cell_type": "markdown",
   "metadata": {},
   "source": [
    "## 2a. Generating embeddings and 3. Storing the embeddings"
   ]
  },
  {
   "cell_type": "code",
   "execution_count": 19,
   "metadata": {},
   "outputs": [
    {
     "data": {
      "text/plain": [
       "'2 because Dudley was now having a tantrum and throwing his cereal at the walls. \"Little tyke,\" chortled Mr. Dursley as he left the house. He got into his car and backed out of number four\\'s drive. It was on the corner of the street that he noticed the first sign of something peculiar -- a cat reading a map. For a second, Mr. Dursley didn\\'t realize what he had seen -- then he jerked his head around to look again. There was a tabby cat standing on the corner of Privet Drive, but there wasn\\'t a map in sight. What could he have been thinking of?It must have been a trick of the light. Mr. Dursley blinked and stared at the cat. It stared back.'"
      ]
     },
     "execution_count": 19,
     "metadata": {},
     "output_type": "execute_result"
    }
   ],
   "source": [
    "# Getting the data ready to geenerate embeddings\n",
    "text_chunks= [item[\"sentence_chunk\"] for item in pages_and_chunks_over_min_token_len]\n",
    "text_chunks[2]"
   ]
  },
  {
   "cell_type": "code",
   "execution_count": 20,
   "metadata": {},
   "outputs": [
    {
     "data": {
      "text/plain": [
       "735"
      ]
     },
     "execution_count": 20,
     "metadata": {},
     "output_type": "execute_result"
    }
   ],
   "source": [
    "len(text_chunks)"
   ]
  },
  {
   "cell_type": "code",
   "execution_count": 31,
   "metadata": {},
   "outputs": [
    {
     "name": "stdout",
     "output_type": "stream",
     "text": [
      "Embeddings file embeddings/sorcerer's_stone.json already exists. Skipping creation.\n"
     ]
    }
   ],
   "source": [
    "# Import necessary libraries\n",
    "import json\n",
    "import os\n",
    "import ollama\n",
    "\n",
    "# Function to create and save embeddings for text chunks\n",
    "\n",
    "###### 2a. Generating vector embeddings\n",
    "\n",
    "def save_embeddings(filename, text_chunks):\n",
    "    \"\"\"\n",
    "    Create embeddings for given text chunks and save them to a JSON file.\n",
    "\n",
    "    Args:\n",
    "    filename (str): Name of the file to save embeddings (without extension).\n",
    "    text_chunks (list): List of text chunks to create embeddings for.\n",
    "\n",
    "    Returns:\n",
    "    None\n",
    "\n",
    "    This function does the following:\n",
    "    1. Creates a directory 'embeddings' if it doesn't exist.\n",
    "    2. Checks if the embeddings file already exists. If it does, it skips creation.\n",
    "    3. If the file doesn't exist, it creates embeddings for each text chunk using the 'nomic-embed-text' model.\n",
    "    4. Saves the embeddings to a JSON file in the 'embeddings' directory.\n",
    "\n",
    "    The embeddings are stored in a list, where each element corresponds to the embedding of a text chunk.\n",
    "    \"\"\"\n",
    "    # Create 'embeddings' directory if it doesn't exist\n",
    "    if not os.path.exists(\"embeddings\"):\n",
    "        os.makedirs(\"embeddings\")\n",
    "    \n",
    "    # Check if embeddings file already exists\n",
    "    file_path = f\"embeddings/{filename}.json\"\n",
    "    if os.path.exists(file_path):\n",
    "        print(f\"Embeddings file {file_path} already exists. Skipping creation.\")\n",
    "        return\n",
    "    \n",
    "    # Create embeddings if file doesn't exist\n",
    "    print(\"Creating embeddings...\")\n",
    "    embeddings = [\n",
    "        ollama.embeddings(model=\"nomic-embed-text\", prompt=chunk)[\"embedding\"]\n",
    "        for chunk in text_chunks\n",
    "    ]\n",
    "\n",
    "    ###### 3. Storing embeddings\n",
    "    \n",
    "    # Save embeddings to JSON file\n",
    "    with open(file_path, \"w\") as f:\n",
    "        json.dump(embeddings, f)\n",
    "    print(f\"Embeddings saved to {file_path}\")\n",
    "\n",
    "save_embeddings(\"sorcerer's_stone\", text_chunks)"
   ]
  },
  {
   "cell_type": "code",
   "execution_count": 25,
   "metadata": {},
   "outputs": [],
   "source": [
    "filename = \"sorcerer's_stone\"\n",
    "with open(f\"embeddings/{filename}.json\", \"r\") as f:\n",
    "    embedding_file = json.load(f) # loading the embeddings as embedding_file"
   ]
  },
  {
   "cell_type": "markdown",
   "metadata": {},
   "source": [
    "## 4 and 5. Querying the vector database and retrieving the most similar chunks"
   ]
  },
  {
   "cell_type": "code",
   "execution_count": 26,
   "metadata": {},
   "outputs": [],
   "source": [
    "# This cell contains the code for calculating the cosine similarity between two vectors and finding the most similar chunks to a given query.\n",
    "\n",
    "from numpy.linalg import norm\n",
    "import numpy as np\n",
    "\n",
    "# Function to calculate cosine similarity between two vectors\n",
    "def cosine_similarity(vec1, vec2):\n",
    "    \"\"\"\n",
    "    Calculate the cosine similarity between two vectors.\n",
    "\n",
    "    Args:\n",
    "    vec1 (list): First vector.\n",
    "    vec2 (list): Second vector.\n",
    "\n",
    "    Returns:\n",
    "    float: Cosine similarity between the two vectors.\n",
    "\n",
    "    This function calculates the cosine similarity between two vectors using the dot product\n",
    "    and the magnitudes of the vectors. The formula used is:\n",
    "    cosine_similarity = dot_product(vec1, vec2) / (magnitude(vec1) * magnitude(vec2))\n",
    "\n",
    "    The cosine similarity ranges from -1 to 1, where:\n",
    "    1 indicates perfect similarity\n",
    "    0 indicates no similarity\n",
    "    -1 indicates perfect dissimilarity (opposite vectors)\n",
    "    \"\"\"\n",
    "    # Calculate dot product of the two vectors\n",
    "    dot_product = np.dot(vec1, vec2)\n",
    "    \n",
    "    # Calculate magnitudes of both vectors\n",
    "    magnitude1 = norm(vec1)\n",
    "    magnitude2 = norm(vec2)\n",
    "    \n",
    "    # Return cosine similarity\n",
    "    return dot_product / (magnitude1 * magnitude2)\n",
    "\n",
    "# Function to find the most similar chunks to a given query\n",
    "# Parameters:\n",
    "#   query: The input query string\n",
    "#   embeddings: List of embeddings for all text chunks\n",
    "#   pages_and_chunks_over_min_token_len: List of dictionaries containing page and chunk information\n",
    "#   top_k: Number of most similar chunks to return (default: 5)\n",
    "# Returns:\n",
    "#   List of tuples containing similarity score and chunk information\n",
    "def find_most_similar(query, embeddings, pages_and_chunks_over_min_token_len, top_k=5):\n",
    "    # Generate query embedding\n",
    "    query_embedding = ollama.embeddings(model=\"nomic-embed-text\", prompt=query)[\"embedding\"]\n",
    "    query_norm = norm(query_embedding)\n",
    "    \n",
    "    # Calculate similarity scores\n",
    "    similarity_scores = [\n",
    "        (np.dot(query_embedding, embedding) / (query_norm * norm(embedding)), idx)\n",
    "        for idx, embedding in enumerate(embeddings)\n",
    "    ]\n",
    "    \n",
    "    # Sort by similarity score in descending order and return top K results with text\n",
    "    most_similar = sorted(similarity_scores, reverse=True)[:top_k]\n",
    "    \n",
    "    return [(score, pages_and_chunks_over_min_token_len[idx]) for score, idx in most_similar]"
   ]
  },
  {
   "cell_type": "markdown",
   "metadata": {},
   "source": [
    "## 6. Ranking the documents based on their similarity scores and 7. Returning the top-ranked documents"
   ]
  },
  {
   "cell_type": "code",
   "execution_count": 27,
   "metadata": {},
   "outputs": [
    {
     "data": {
      "text/plain": [
       "[(0.6823017966216157,\n",
       "  {'page_number': 143,\n",
       "   'sentence_chunk': 'CHAPTER ELEVEN QUIDDITCH As they entered November, the weather turned very cold. The mountains around the school became icy gray and the lake like chilled steel. Every morning the ground was covered in frost. Hagrid could be seen from the upstairs windows defrosting broomsticks on the Quidditch field, bundled up in a long moleskin overcoat, rabbit fur gloves, and enormous beaverskin boots. The Quidditch season had begun. On Saturday, Harry would be playing in',\n",
       "   'chunk_char_count': 463,\n",
       "   'chunk_word_count': 74,\n",
       "   'chunk_token_count': 115.75}),\n",
       " (0.6652738694498586,\n",
       "  {'page_number': 60,\n",
       "   'sentence_chunk': 'Play Quidditch at all?\" \"No,\" Harry said again, wondering what on earth Quidditch could be. \"I do -- Father says it\\'s a crime if I\\'m not picked to play for my house, and I must say, I agree. Know what house you\\'ll be in yet?\" \"No,\" said Harry, feeling more stupid by the minute. \"Well, no one really knows until they get there, do they, but I know I\\'ll be in Slytherin, all our family have been -- imagine being in Hufflepuff, I think I\\'d leave, wouldn\\'t you?\" \"Mmm,\" said Harry, wishing he could say something a bit more interesting.',\n",
       "   'chunk_char_count': 534,\n",
       "   'chunk_word_count': 100,\n",
       "   'chunk_token_count': 133.5}),\n",
       " (0.6447455060472256,\n",
       "  {'page_number': 144,\n",
       "   'sentence_chunk': \"144 his first match after weeks of training: Gryffindor versus Slytherin. If Gryffindor won, they would move up into second place in the house championship. Hardly anyone had seen Harry play because Wood had decided that, as their secret weapon, Harry should be kept, well, secret. But the news that he was playing Seeker had leaked out somehow, and Harry didn't know which was worse -- people telling him he'd be brilliant or people telling him they'd be running around underneath him holding a mattress. It was really lucky that Harry now had Hermlone as a friend. He didn't know how he'd have gotten through all his homework without her, what with all the last-minute Quidditch practice Wood was making them do. She had also tent him Quidditch Through the Ages, which turned out to be a very interesting read. Harry learned that there were seven hundred ways of committing a Quidditch foul and that all of them had happened during a World Cup match in 1473; that Seekers were usually the smallest and fastest players, and that most serious Quidditch accidents seemed to happen to them; that although people rarely died playing Quidditch, referees had been known to vanish and turn up months later in the Sahara Desert. Hermione had become a bit more relaxed about breaking rules since Harry and Ron had saved her from the mountain troll, and she was much nicer for it. The day before Harry's first Quidditch match the three of them were out in the freezing courtyard during break, and she had conjured them up a bright blue fire that could be carried around in a jam jar.\",\n",
       "   'chunk_char_count': 1574,\n",
       "   'chunk_word_count': 275,\n",
       "   'chunk_token_count': 393.5}),\n",
       " (0.6422787924757362,\n",
       "  {'page_number': 147,\n",
       "   'sentence_chunk': '147 \"Thanks, Seamus,\" said Harry, watching Seamus pile ketchup on his sausages. By eleven o\\'clock the whole school seemed to be out in the stands around the Quidditch pitch. Many students had binoculars. The seats might be raised high in the air, but it was still difficult to see what was going on sometimes. Ron and Hermione joined Neville, Seamus, and Dean the West Ham fan up in the top row. As a surprise for Harry, they had painted a large banner on one of the sheets Scabbers had ruined. It said Potter for President, and Dean, who was good at drawing, had done a large Gryffindor lion underneath. Then Hermione had performed a tricky little charm so that the paint flashed different colors. Meanwhile, in the locker room, Harry and the rest of the team were changing into their scarlet Quidditch robes (Slytherin would be playing in green). Wood cleared his throat for silence. \"',\n",
       "   'chunk_char_count': 887,\n",
       "   'chunk_word_count': 156,\n",
       "   'chunk_token_count': 221.75}),\n",
       " (0.6392183238421589,\n",
       "  {'page_number': 132,\n",
       "   'sentence_chunk': \"As seven o'clock drew nearer, Harry left the castle and set off in the dusk toward the Quidditch field. Held never been inside the stadium before. Hundreds of seats were raised in stands around the field so that the spectators were high enough to see what was going on. At either end\",\n",
       "   'chunk_char_count': 283,\n",
       "   'chunk_word_count': 52,\n",
       "   'chunk_token_count': 70.75})]"
      ]
     },
     "execution_count": 27,
     "metadata": {},
     "output_type": "execute_result"
    }
   ],
   "source": [
    "query = \"When was quidditch played\" # general query, can ask about anything\n",
    "similar_chunks = find_most_similar(query, embedding_file, pages_and_chunks_over_min_token_len)\n",
    "similar_chunks"
   ]
  },
  {
   "cell_type": "code",
   "execution_count": 28,
   "metadata": {},
   "outputs": [
    {
     "name": "stdout",
     "output_type": "stream",
     "text": [
      "Text chunks:  146 Harry left, before Snape could take any more points from Gryffindor. He sprinted back upstairs. \"Did you get it?\"Ron asked as Harry joined them. \"What's the matter?\"In a low whisper, Harry told them what he'd seen. \"You know what this means?\"he finished breathlessly. \"He tried to get past that three-headed dog at Halloween!That's where he was going when we saw him -- he's after whatever it's guarding!\n",
      "Pages and chunks:  {'page_number': 146, 'sentence_chunk': '146 Harry left, before Snape could take any more points from Gryffindor. He sprinted back upstairs. \"Did you get it?\"Ron asked as Harry joined them. \"What\\'s the matter?\"In a low whisper, Harry told them what he\\'d seen. \"You know what this means?\"he finished breathlessly. \"He tried to get past that three-headed dog at Halloween!That\\'s where he was going when we saw him -- he\\'s after whatever it\\'s guarding!', 'chunk_char_count': 408, 'chunk_word_count': 68, 'chunk_token_count': 102.0}\n"
     ]
    }
   ],
   "source": [
    "print(\"Text chunks: \", text_chunks[423])\n",
    "print(\"Pages and chunks: \", pages_and_chunks_over_min_token_len[423])"
   ]
  },
  {
   "cell_type": "markdown",
   "metadata": {},
   "source": [
    "## 8. Displaying the results using the Mistral model"
   ]
  },
  {
   "cell_type": "code",
   "execution_count": 30,
   "metadata": {},
   "outputs": [
    {
     "name": "stdout",
     "output_type": "stream",
     "text": [
      "Answer:  The text does not specify a specific month when Quidditch is played, but it indicates that it starts in November, as they entered November, the weather turned cold and the Quidditch season had begun. However, since the story continues after November, it's possible that Quidditch matches could take place during other months as well.\n",
      "\n",
      "Sources:\n",
      "Source 1 (Score: 0.7072):\n",
      "CHAPTER ELEVEN QUIDDITCH As they entered November, the weather turned very cold.\n",
      "The mountains around the school became icy gray and the lake like chilled steel.\n",
      "Every morning the ground was covered in frost. Hagrid could be seen from the\n",
      "upstairs windows defrosting broomsticks on the Quidditch field, bundled up in a\n",
      "long moleskin overcoat, rabbit fur gloves, and enormous beaverskin boots. The\n",
      "Quidditch season had begun. On Saturday, Harry would be playing in\n",
      "\n",
      "Source 2 (Score: 0.6373):\n",
      "Play Quidditch at all?\" \"No,\" Harry said again, wondering what on earth\n",
      "Quidditch could be. \"I do -- Father says it's a crime if I'm not picked to play\n",
      "for my house, and I must say, I agree. Know what house you'll be in yet?\" \"No,\"\n",
      "said Harry, feeling more stupid by the minute. \"Well, no one really knows until\n",
      "they get there, do they, but I know I'll be in Slytherin, all our family have\n",
      "been -- imagine being in Hufflepuff, I think I'd leave, wouldn't you?\" \"Mmm,\"\n",
      "said Harry, wishing he could say something a bit more interesting.\n",
      "\n",
      "Source 3 (Score: 0.6215):\n",
      "144 his first match after weeks of training: Gryffindor versus Slytherin. If\n",
      "Gryffindor won, they would move up into second place in the house championship.\n",
      "Hardly anyone had seen Harry play because Wood had decided that, as their secret\n",
      "weapon, Harry should be kept, well, secret. But the news that he was playing\n",
      "Seeker had leaked out somehow, and Harry didn't know which was worse -- people\n",
      "telling him he'd be brilliant or people telling him they'd be running around\n",
      "underneath him holding a mattress. It was really lucky that Harry now had\n",
      "Hermlone as a friend. He didn't know how he'd have gotten through all his\n",
      "homework without her, what with all the last-minute Quidditch practice Wood was\n",
      "making them do. She had also tent him Quidditch Through the Ages, which turned\n",
      "out to be a very interesting read. Harry learned that there were seven hundred\n",
      "ways of committing a Quidditch foul and that all of them had happened during a\n",
      "World Cup match in 1473; that Seekers were usually the smallest and fastest\n",
      "players, and that most serious Quidditch accidents seemed to happen to them;\n",
      "that although people rarely died playing Quidditch, referees had been known to\n",
      "vanish and turn up months later in the Sahara Desert. Hermione had become a bit\n",
      "more relaxed about breaking rules since Harry and Ron had saved her from the\n",
      "mountain troll, and she was much nicer for it. The day before Harry's first\n",
      "Quidditch match the three of them were out in the freezing courtyard during\n",
      "break, and she had conjured them up a bright blue fire that could be carried\n",
      "around in a jam jar.\n",
      "\n",
      "Source 4 (Score: 0.6168):\n",
      "147 \"Thanks, Seamus,\" said Harry, watching Seamus pile ketchup on his sausages.\n",
      "By eleven o'clock the whole school seemed to be out in the stands around the\n",
      "Quidditch pitch. Many students had binoculars. The seats might be raised high in\n",
      "the air, but it was still difficult to see what was going on sometimes. Ron and\n",
      "Hermione joined Neville, Seamus, and Dean the West Ham fan up in the top row. As\n",
      "a surprise for Harry, they had painted a large banner on one of the sheets\n",
      "Scabbers had ruined. It said Potter for President, and Dean, who was good at\n",
      "drawing, had done a large Gryffindor lion underneath. Then Hermione had\n",
      "performed a tricky little charm so that the paint flashed different colors.\n",
      "Meanwhile, in the locker room, Harry and the rest of the team were changing into\n",
      "their scarlet Quidditch robes (Slytherin would be playing in green). Wood\n",
      "cleared his throat for silence. \"\n",
      "\n",
      "Source 5 (Score: 0.6151):\n",
      "As seven o'clock drew nearer, Harry left the castle and set off in the dusk\n",
      "toward the Quidditch field. Held never been inside the stadium before. Hundreds\n",
      "of seats were raised in stands around the field so that the spectators were high\n",
      "enough to see what was going on. At either end\n",
      "\n"
     ]
    }
   ],
   "source": [
    "import textwrap\n",
    "query = \"Which month was quidditch played\" # edit this line with your query and watch the magic unfold!\n",
    "\n",
    "# Find the most similar chunks\n",
    "similar_chunks = find_most_similar(query, embedding_file, text_chunks)\n",
    "\n",
    "# Prepare the context snippets\n",
    "context_snippets = \"\\n\".join(f\"Source {i+1}: {item[1]}\" for i, item in enumerate(similar_chunks))\n",
    "\n",
    "# Generate response from the Mistral model\n",
    "SYSTEM_PROMPT = \"\"\"You are a helpful reading assistant who answers questions \n",
    "                based on snippets of text provided in context. Answer only using the context provided, \n",
    "                being as concise as possible. If you're unsure, just say that you don't know.\n",
    "                Context:\n",
    "                \"\"\"\n",
    "response = ollama.chat(\n",
    "    model=\"mistral\",\n",
    "        messages=[\n",
    "            {\n",
    "                \"role\": \"system\",\n",
    "                \"content\": SYSTEM_PROMPT + context_snippets,\n",
    "            },\n",
    "            {\"role\": \"user\", \"content\": query},\n",
    "        ],\n",
    "    )\n",
    "\n",
    "line_width = 80\n",
    "# Print the response and the sources\n",
    "print(\"Answer:\", response[\"message\"][\"content\"])\n",
    "print(\"\\nSources:\")\n",
    "for i, (score, snippet) in enumerate(similar_chunks):\n",
    "    wrapped_text= textwrap.fill(snippet, width = line_width)\n",
    "    print(f\"Source {i+1} (Score: {score:.4f}):\\n{wrapped_text}\\n\")\n"
   ]
  },
  {
   "cell_type": "markdown",
   "metadata": {},
   "source": [
    "# Experimentation"
   ]
  },
  {
   "cell_type": "code",
   "execution_count": 28,
   "metadata": {},
   "outputs": [],
   "source": [
    "import re\n",
    "alphabets= \"([A-Za-z])\"\n",
    "prefixes = \"(Mr|St|Mrs|Ms|Dr)[.]\"\n",
    "suffixes = \"(Inc|Ltd|Jr|Sr|Co)\"\n",
    "starters = \"(Mr|Mrs|Ms|Dr|Prof|Capt|Cpt|Lt|He\\s|She\\s|It\\s|They\\s|Their\\s|Our\\s|We\\s|But\\s|However\\s|That\\s|This\\s|Wherever)\"\n",
    "acronyms = \"([A-Z][.][A-Z][.](?:[A-Z][.])?)\"\n",
    "websites = \"[.](com|net|org|io|gov|edu|me)\"\n",
    "digits = \"([0-9])\"\n",
    "multiple_dots = r'\\.{2,}'\n",
    "\n",
    "def split_into_sentences(text: str) -> list[str]:\n",
    "    \"\"\"\n",
    "    Split the text into sentences.\n",
    "\n",
    "    If the text contains substrings \"<prd>\" or \"<stop>\", they would lead \n",
    "    to incorrect splitting because they are used as markers for splitting.\n",
    "\n",
    "    :param text: text to be split into sentences\n",
    "    :type text: str\n",
    "\n",
    "    :return: list of sentences\n",
    "    :rtype: list[str]\n",
    "    \"\"\"\n",
    "    text = \" \" + text + \"  \"\n",
    "    text = text.replace(\"\\n\",\" \")\n",
    "    text = re.sub(prefixes,\"\\\\1<prd>\",text)\n",
    "    text = re.sub(websites,\"<prd>\\\\1\",text)\n",
    "    text = re.sub(digits + \"[.]\" + digits,\"\\\\1<prd>\\\\2\",text)\n",
    "    text = re.sub(multiple_dots, lambda match: \"<prd>\" * len(match.group(0)) + \"<stop>\", text)\n",
    "    if \"Ph.D\" in text: text = text.replace(\"Ph.D.\",\"Ph<prd>D<prd>\")\n",
    "    text = re.sub(\"\\s\" + alphabets + \"[.] \",\" \\\\1<prd> \",text)\n",
    "    text = re.sub(acronyms+\" \"+starters,\"\\\\1<stop> \\\\2\",text)\n",
    "    text = re.sub(alphabets + \"[.]\" + alphabets + \"[.]\" + alphabets + \"[.]\",\"\\\\1<prd>\\\\2<prd>\\\\3<prd>\",text)\n",
    "    text = re.sub(alphabets + \"[.]\" + alphabets + \"[.]\",\"\\\\1<prd>\\\\2<prd>\",text)\n",
    "    text = re.sub(\" \"+suffixes+\"[.] \"+starters,\" \\\\1<stop> \\\\2\",text)\n",
    "    text = re.sub(\" \"+suffixes+\"[.]\",\" \\\\1<prd>\",text)\n",
    "    text = re.sub(\" \" + alphabets + \"[.]\",\" \\\\1<prd>\",text)\n",
    "    if \"”\" in text: text = text.replace(\".”\",\"”.\")\n",
    "    if \"\\\"\" in text: text = text.replace(\".\\\"\",\"\\\".\")\n",
    "    if \"!\" in text: text = text.replace(\"!\\\"\",\"\\\"!\")\n",
    "    if \"?\" in text: text = text.replace(\"?\\\"\",\"\\\"?\")\n",
    "    text = text.replace(\".\",\".<stop>\")\n",
    "    text = text.replace(\"?\",\"?<stop>\")\n",
    "    text = text.replace(\"!\",\"!<stop>\")\n",
    "    text = text.replace(\"<prd>\",\".\")\n",
    "    sentences = text.split(\"<stop>\")\n",
    "    sentences = [s.strip() for s in sentences]\n",
    "    if sentences and not sentences[-1]: sentences = sentences[:-1]\n",
    "    return sentences"
   ]
  },
  {
   "cell_type": "code",
   "execution_count": 29,
   "metadata": {},
   "outputs": [
    {
     "name": "stderr",
     "output_type": "stream",
     "text": [
      "100%|██████████| 250/250 [00:00<00:00, 2885.47it/s]\n"
     ]
    }
   ],
   "source": [
    "for item in tqdm(pages_and_texts):\n",
    "    item[\"sentences\"] = split_into_sentences(item[\"text\"])"
   ]
  },
  {
   "cell_type": "code",
   "execution_count": 31,
   "metadata": {},
   "outputs": [
    {
     "data": {
      "text/plain": [
       "{'text': '58 Griphook held the door open for them. Harry, who had expected more marble, was surprised. They were in a narrow stone passageway lit with flaming torches. It sloped steeply downward and there were little railway tracks on the floor. Griphook whistled and a small cart came hurtling up the tracks toward them. They climbed in -- Hagrid with some difficulty -- and were off. At first they just hurtled through a maze of twisting passages. Harry tried to remember, left, right, right, left, middle fork, right, left, but it was impossible. The rattling cart seemed to know its own way, because Griphook wasn\\'t steering. Harry\\'s eyes stung as the cold air rushed past them, but he kept them wide open. Once, he thought he saw a burst of fire at the end of a passage and twisted around to see if it was a dragon, but too late - - they plunged even deeper, passing an underground lake where huge stalactites and stalagmites grew from the ceiling and floor. I never know,\" Harry called to Hagrid over the noise of the cart, \"what\\'s the difference between a stalagmite and a stalactite?\" \"Stalagmite\\'s got an \\'m\\' in it,\" said Hagrid. \"An\\' don\\' ask me questions just now, I think I\\'m gonna be sick.\" He did look very green, and when the cart stopped at last beside a small door in the passage wall, Hagrid got out and had to lean against the wall to stop his knees from trembling. Griphook unlocked the door. A lot of green smoke came billowing out, and as it cleared, Harry gasped. Inside were mounds of gold coins. Columns of silver. Heaps of little bronze Knuts. \"All yours,\" smiled Hagrid. All Harry\\'s -- it was incredible. The Dursleys couldn\\'t have known about this or they\\'d have had it from him faster than blinking. How often had they complained how much Harry cost them to keep? And all the time there had been a small fortune belonging to him, buried deep under London. Hagrid helped Harry pile some of it into a bag. \"The gold ones are Galleons,\" he explained. \"Seventeen silver Sickles to',\n",
       " 'page': 58,\n",
       " 'page_word_count': 326,\n",
       " 'page_token_count': 499.0,\n",
       " 'sentences': ['58 Griphook held the door open for them.',\n",
       "  'Harry, who had expected more marble, was surprised.',\n",
       "  'They were in a narrow stone passageway lit with flaming torches.',\n",
       "  'It sloped steeply downward and there were little railway tracks on the floor.',\n",
       "  'Griphook whistled and a small cart came hurtling up the tracks toward them.',\n",
       "  'They climbed in -- Hagrid with some difficulty -- and were off.',\n",
       "  'At first they just hurtled through a maze of twisting passages.',\n",
       "  'Harry tried to remember, left, right, right, left, middle fork, right, left, but it was impossible.',\n",
       "  \"The rattling cart seemed to know its own way, because Griphook wasn't steering.\",\n",
       "  \"Harry's eyes stung as the cold air rushed past them, but he kept them wide open.\",\n",
       "  'Once, he thought he saw a burst of fire at the end of a passage and twisted around to see if it was a dragon, but too late - - they plunged even deeper, passing an underground lake where huge stalactites and stalagmites grew from the ceiling and floor.',\n",
       "  'I never know,\" Harry called to Hagrid over the noise of the cart, \"what\\'s the difference between a stalagmite and a stalactite\"?',\n",
       "  '\"Stalagmite\\'s got an \\'m\\' in it,\" said Hagrid.',\n",
       "  '\"An\\' don\\' ask me questions just now, I think I\\'m gonna be sick\".',\n",
       "  'He did look very green, and when the cart stopped at last beside a small door in the passage wall, Hagrid got out and had to lean against the wall to stop his knees from trembling.',\n",
       "  'Griphook unlocked the door.',\n",
       "  'A lot of green smoke came billowing out, and as it cleared, Harry gasped.',\n",
       "  'Inside were mounds of gold coins.',\n",
       "  'Columns of silver.',\n",
       "  'Heaps of little bronze Knuts.',\n",
       "  '\"All yours,\" smiled Hagrid.',\n",
       "  \"All Harry's -- it was incredible.\",\n",
       "  \"The Dursleys couldn't have known about this or they'd have had it from him faster than blinking.\",\n",
       "  'How often had they complained how much Harry cost them to keep?',\n",
       "  'And all the time there had been a small fortune belonging to him, buried deep under London.',\n",
       "  'Hagrid helped Harry pile some of it into a bag.',\n",
       "  '\"The gold ones are Galleons,\" he explained.',\n",
       "  '\"Seventeen silver Sickles to'],\n",
       " 'num_sents': 28}"
      ]
     },
     "execution_count": 31,
     "metadata": {},
     "output_type": "execute_result"
    }
   ],
   "source": [
    "pages_and_texts[58]"
   ]
  },
  {
   "cell_type": "code",
   "execution_count": null,
   "metadata": {},
   "outputs": [],
   "source": []
  }
 ],
 "metadata": {
  "kernelspec": {
   "display_name": "Python 3 (ipykernel)",
   "language": "python",
   "name": "python3"
  },
  "language_info": {
   "codemirror_mode": {
    "name": "ipython",
    "version": 3
   },
   "file_extension": ".py",
   "mimetype": "text/x-python",
   "name": "python",
   "nbconvert_exporter": "python",
   "pygments_lexer": "ipython3",
   "version": "3.11.9"
  }
 },
 "nbformat": 4,
 "nbformat_minor": 4
}
